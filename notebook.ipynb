{
 "cells": [
  {
   "cell_type": "markdown",
   "metadata": {},
   "source": [
    "# Instructions\n",
    "\n",
    "The assignment consists of the following task. \n",
    "\n",
    "Get familiar with the [ORKG API](https://www.orkg.org/orkg/doc/api/) and write the required Python code to retrieve the p-value of the statistical hypothesis test published in the [paper](https://www.orkg.org/orkg/paper/R4059) by Haddad et al. titled \"Iron-regulatory proteins secure iron availability in cardiomyocytes to prevent heart failure\" and display the numerical value as output.\n",
    "\n",
    "Return the assignment with the output visible.\n",
    "\n",
    "Good luck!"
   ]
  },
  {
   "cell_type": "code",
   "execution_count": 1,
   "metadata": {},
   "outputs": [
    {
     "name": "stdout",
     "output_type": "stream",
     "text": [
      "1.3111247517411591e-08\n"
     ]
    }
   ],
   "source": [
    "import requests\n",
    "\n",
    "api = 'http://www.orkg.org/orkg/api/'\n",
    "\n",
    "import json\n",
    "\n",
    "########################################\n",
    "# Problem Statement: To obtain the numerical p-value of the statistical hypothesis test\n",
    "#########################################\n",
    "\n",
    "\n",
    "#Since Knowledge Graph is similar to RDF, I realized that p-value would be stored as part of an object\n",
    "#So I queried the resource using the label \"p-value\"\n",
    "url = api + \"resources/?q=p-value\"\n",
    "\n",
    "json_data_resource = requests.get(url)\n",
    "json_data = json_data_resource.json()\n",
    "\n",
    "# The output consists of three IDs\n",
    "# I realized if we go by the definition of an RDF tuple, the ID should either be a subject or a predicate\n",
    "# and the object should contain the p-value\n",
    "# So I ran a GET request for all the three IDs and found the Third ID i.e. R4049 has an object whose label \n",
    "# consists of the p-value\n",
    "subject_id = json_data[2][\"id\"]\n",
    "subject_url = api + \"/statements/subject/\"+subject_id\n",
    "\n",
    "response_data = requests.get(subject_url)\n",
    "response_subject_data = response_data.json()\n",
    "\n",
    "#Output\n",
    "print(response_subject_data[2][\"object\"][\"label\"])"
   ]
  },
  {
   "cell_type": "code",
   "execution_count": null,
   "metadata": {
    "collapsed": true
   },
   "outputs": [],
   "source": []
  }
 ],
 "metadata": {
  "kernelspec": {
   "display_name": "Python 3",
   "language": "python",
   "name": "python3"
  },
  "language_info": {
   "codemirror_mode": {
    "name": "ipython",
    "version": 3
   },
   "file_extension": ".py",
   "mimetype": "text/x-python",
   "name": "python",
   "nbconvert_exporter": "python",
   "pygments_lexer": "ipython3",
   "version": "3.6.1"
  }
 },
 "nbformat": 4,
 "nbformat_minor": 4
}
