{
 "cells": [
  {
   "cell_type": "markdown",
   "metadata": {},
   "source": [
    "# Instructions\n",
    "\n",
    "The assignment consists of the following task. \n",
    "\n",
    "Get familiar with the [ORKG API](https://www.orkg.org/orkg/doc/api/) and write the required Python code to retrieve the p-value of the statistical hypothesis test published in the [paper](https://www.orkg.org/orkg/paper/R4059) by Haddad et al. titled \"Iron-regulatory proteins secure iron availability in cardiomyocytes to prevent heart failure\" and display the numerical value as output.\n",
    "\n",
    "Return the assignment with the output visible.\n",
    "\n",
    "Good luck!"
   ]
  },
  {
   "cell_type": "code",
   "execution_count": 1,
   "metadata": {},
   "outputs": [
    {
     "name": "stdout",
     "output_type": "stream",
     "text": [
      "1.3111247517411591e-08\n"
     ]
    }
   ],
   "source": [
    "import requests\n",
    "\n",
    "api = 'http://www.orkg.org/orkg/api/'\n",
    "import json\n",
    "\n",
    "########################################\n",
    "# Problem Statement: To obtain the numerical p-value of the statistical hypothesis test\n",
    "#########################################\n",
    "\n",
    "#Setting the title of the paper as the query parameter\n",
    "query = 'Iron-regulatory%20proteins%20secure%20iron%20availability%20in%20cardiomyocytes%20to%20prevent%20heart%20failure'\n",
    "\n",
    "url = api + \"resources/?q=\"+query\n",
    "\n",
    "json_data_resource = requests.get(url)\n",
    "json_data = json_data_resource.json()\n",
    "\n",
    "api_call_statements_subject = \"statements/subject/\"\n",
    "\n",
    "#Using the ID\n",
    "url = api + api_call_statements_subject +json_data[0][\"id\"]\n",
    "json_data_resource = requests.get(url)\n",
    "json_data = json_data_resource.json()\n",
    "\n",
    "#Using the ID\n",
    "url = api + api_call_statements_subject +json_data[0][\"object\"][\"id\"]\n",
    "json_data_resource = requests.get(url)\n",
    "json_data = json_data_resource.json()\n",
    "\n",
    "#Using the ID\n",
    "url = api + api_call_statements_subject +json_data[0][\"object\"][\"id\"]\n",
    "json_data_resource = requests.get(url)\n",
    "json_data = json_data_resource.json()\n",
    "\n",
    "#Using the ID\n",
    "url = api + api_call_statements_subject +json_data[2][\"object\"][\"id\"]\n",
    "json_data_resource = requests.get(url)\n",
    "json_data = json_data_resource.json()\n",
    "\n",
    "#Using the ID\n",
    "url = api + api_call_statements_subject +json_data[1][\"object\"][\"id\"]\n",
    "json_data_resource = requests.get(url)\n",
    "json_data = json_data_resource.json()\n",
    "print(json_data[2][\"object\"][\"label\"])\n"
   ]
  },
  {
   "cell_type": "code",
   "execution_count": null,
   "metadata": {
    "collapsed": true
   },
   "outputs": [],
   "source": []
  }
 ],
 "metadata": {
  "kernelspec": {
   "display_name": "Python 3",
   "language": "python",
   "name": "python3"
  },
  "language_info": {
   "codemirror_mode": {
    "name": "ipython",
    "version": 3
   },
   "file_extension": ".py",
   "mimetype": "text/x-python",
   "name": "python",
   "nbconvert_exporter": "python",
   "pygments_lexer": "ipython3",
   "version": "3.6.1"
  }
 },
 "nbformat": 4,
 "nbformat_minor": 4
}
